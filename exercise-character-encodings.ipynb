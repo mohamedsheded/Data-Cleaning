{
 "cells": [
  {
   "cell_type": "markdown",
   "id": "74474065",
   "metadata": {
    "papermill": {
     "duration": 0.00701,
     "end_time": "2022-06-27T18:57:53.143632",
     "exception": false,
     "start_time": "2022-06-27T18:57:53.136622",
     "status": "completed"
    },
    "tags": []
   },
   "source": [
    "**This notebook is an exercise in the [Data Cleaning](https://www.kaggle.com/learn/data-cleaning) course.  You can reference the tutorial at [this link](https://www.kaggle.com/alexisbcook/character-encodings).**\n",
    "\n",
    "---\n"
   ]
  },
  {
   "cell_type": "markdown",
   "id": "7c72b8a5",
   "metadata": {
    "papermill": {
     "duration": 0.005391,
     "end_time": "2022-06-27T18:57:53.154543",
     "exception": false,
     "start_time": "2022-06-27T18:57:53.149152",
     "status": "completed"
    },
    "tags": []
   },
   "source": [
    "In this exercise, you'll apply what you learned in the **Character encodings** tutorial.\n",
    "\n",
    "# Setup\n",
    "\n",
    "The questions below will give you feedback on your work. Run the following cell to set up the feedback system."
   ]
  },
  {
   "cell_type": "code",
   "execution_count": 1,
   "id": "bda61a57",
   "metadata": {
    "execution": {
     "iopub.execute_input": "2022-06-27T18:57:53.168554Z",
     "iopub.status.busy": "2022-06-27T18:57:53.167372Z",
     "iopub.status.idle": "2022-06-27T18:57:53.251034Z",
     "shell.execute_reply": "2022-06-27T18:57:53.249803Z"
    },
    "papermill": {
     "duration": 0.093773,
     "end_time": "2022-06-27T18:57:53.254317",
     "exception": false,
     "start_time": "2022-06-27T18:57:53.160544",
     "status": "completed"
    },
    "tags": []
   },
   "outputs": [
    {
     "name": "stdout",
     "output_type": "stream",
     "text": [
      "Setup Complete\n"
     ]
    }
   ],
   "source": [
    "from learntools.core import binder\n",
    "binder.bind(globals())\n",
    "from learntools.data_cleaning.ex4 import *\n",
    "print(\"Setup Complete\")"
   ]
  },
  {
   "cell_type": "markdown",
   "id": "fea5003a",
   "metadata": {
    "papermill": {
     "duration": 0.005259,
     "end_time": "2022-06-27T18:57:53.266596",
     "exception": false,
     "start_time": "2022-06-27T18:57:53.261337",
     "status": "completed"
    },
    "tags": []
   },
   "source": [
    "# Get our environment set up\n",
    "\n",
    "The first thing we'll need to do is load in the libraries we'll be using."
   ]
  },
  {
   "cell_type": "code",
   "execution_count": 2,
   "id": "71d29626",
   "metadata": {
    "execution": {
     "iopub.execute_input": "2022-06-27T18:57:53.278934Z",
     "iopub.status.busy": "2022-06-27T18:57:53.278533Z",
     "iopub.status.idle": "2022-06-27T18:57:53.284088Z",
     "shell.execute_reply": "2022-06-27T18:57:53.282946Z"
    },
    "papermill": {
     "duration": 0.014589,
     "end_time": "2022-06-27T18:57:53.286398",
     "exception": false,
     "start_time": "2022-06-27T18:57:53.271809",
     "status": "completed"
    },
    "tags": []
   },
   "outputs": [],
   "source": [
    "# modules we'll use\n",
    "import pandas as pd\n",
    "import numpy as np\n",
    "\n",
    "# helpful character encoding module\n",
    "import chardet\n",
    "\n",
    "# set seed for reproducibility\n",
    "np.random.seed(0)"
   ]
  },
  {
   "cell_type": "markdown",
   "id": "13989f61",
   "metadata": {
    "papermill": {
     "duration": 0.005168,
     "end_time": "2022-06-27T18:57:53.297012",
     "exception": false,
     "start_time": "2022-06-27T18:57:53.291844",
     "status": "completed"
    },
    "tags": []
   },
   "source": [
    "# 1) What are encodings?\n",
    "\n",
    "You're working with a dataset composed of bytes.  Run the code cell below to print a sample entry."
   ]
  },
  {
   "cell_type": "code",
   "execution_count": 3,
   "id": "dad3c2e2",
   "metadata": {
    "execution": {
     "iopub.execute_input": "2022-06-27T18:57:53.309693Z",
     "iopub.status.busy": "2022-06-27T18:57:53.309306Z",
     "iopub.status.idle": "2022-06-27T18:57:53.315747Z",
     "shell.execute_reply": "2022-06-27T18:57:53.314552Z"
    },
    "papermill": {
     "duration": 0.016944,
     "end_time": "2022-06-27T18:57:53.319374",
     "exception": false,
     "start_time": "2022-06-27T18:57:53.302430",
     "status": "completed"
    },
    "tags": []
   },
   "outputs": [
    {
     "name": "stdout",
     "output_type": "stream",
     "text": [
      "b'\\xa7A\\xa6n'\n",
      "data type: <class 'bytes'>\n"
     ]
    }
   ],
   "source": [
    "sample_entry = b'\\xa7A\\xa6n'\n",
    "print(sample_entry)\n",
    "print('data type:', type(sample_entry))"
   ]
  },
  {
   "cell_type": "markdown",
   "id": "e374387a",
   "metadata": {
    "papermill": {
     "duration": 0.005325,
     "end_time": "2022-06-27T18:57:53.331438",
     "exception": false,
     "start_time": "2022-06-27T18:57:53.326113",
     "status": "completed"
    },
    "tags": []
   },
   "source": [
    "#### You notice that it doesn't use the standard UTF-8 encoding. \n",
    "\n",
    "Use the next code cell to create a variable `new_entry` that changes the encoding from `\"big5-tw\"` to `\"utf-8\"`.  `new_entry` should have the bytes datatype."
   ]
  },
  {
   "cell_type": "markdown",
   "id": "3d8750a6",
   "metadata": {
    "papermill": {
     "duration": 0.00509,
     "end_time": "2022-06-27T18:57:53.341818",
     "exception": false,
     "start_time": "2022-06-27T18:57:53.336728",
     "status": "completed"
    },
    "tags": []
   },
   "source": []
  },
  {
   "cell_type": "code",
   "execution_count": 4,
   "id": "2df2ffac",
   "metadata": {
    "execution": {
     "iopub.execute_input": "2022-06-27T18:57:53.354361Z",
     "iopub.status.busy": "2022-06-27T18:57:53.354013Z",
     "iopub.status.idle": "2022-06-27T18:57:53.366540Z",
     "shell.execute_reply": "2022-06-27T18:57:53.365264Z"
    },
    "papermill": {
     "duration": 0.02201,
     "end_time": "2022-06-27T18:57:53.369109",
     "exception": false,
     "start_time": "2022-06-27T18:57:53.347099",
     "status": "completed"
    },
    "tags": []
   },
   "outputs": [
    {
     "data": {
      "application/javascript": [
       "parent.postMessage({\"jupyterEvent\": \"custom.exercise_interaction\", \"data\": {\"outcomeType\": 1, \"valueTowardsCompletion\": 0.3333333333333333, \"interactionType\": 1, \"questionType\": 1, \"questionId\": \"1_EncodingsIntro\", \"learnToolsVersion\": \"0.3.4\", \"failureMessage\": \"\", \"exceptionClass\": \"\", \"trace\": \"\"}}, \"*\")"
      ],
      "text/plain": [
       "<IPython.core.display.Javascript object>"
      ]
     },
     "metadata": {},
     "output_type": "display_data"
    },
    {
     "data": {
      "text/markdown": [
       "<span style=\"color:#33cc33\">Correct</span>"
      ],
      "text/plain": [
       "Correct"
      ]
     },
     "metadata": {},
     "output_type": "display_data"
    }
   ],
   "source": [
    "#trying to guess in which encoding\n",
    "#result = chardet.detect(sample_entry[0:15])\n",
    "\n",
    "# check what the character encoding might be\n",
    "#print(result)\n",
    "\n",
    "old = sample_entry.decode(\"big5-tw\")\n",
    "new_entry= old.encode(\"utf-8\", errors=\"replace\")\n",
    "#print(old,new_entry)\n",
    "# Check your answer\n",
    "q1.check()"
   ]
  },
  {
   "cell_type": "code",
   "execution_count": 5,
   "id": "e26afcd4",
   "metadata": {
    "execution": {
     "iopub.execute_input": "2022-06-27T18:57:53.382496Z",
     "iopub.status.busy": "2022-06-27T18:57:53.382124Z",
     "iopub.status.idle": "2022-06-27T18:57:53.386625Z",
     "shell.execute_reply": "2022-06-27T18:57:53.385381Z"
    },
    "papermill": {
     "duration": 0.014045,
     "end_time": "2022-06-27T18:57:53.389078",
     "exception": false,
     "start_time": "2022-06-27T18:57:53.375033",
     "status": "completed"
    },
    "tags": []
   },
   "outputs": [],
   "source": [
    "# Lines below will give you a hint or solution code\n",
    "#q1.hint()\n",
    "#q1.solution()"
   ]
  },
  {
   "cell_type": "markdown",
   "id": "d43cdfd6",
   "metadata": {
    "papermill": {
     "duration": 0.005511,
     "end_time": "2022-06-27T18:57:53.400657",
     "exception": false,
     "start_time": "2022-06-27T18:57:53.395146",
     "status": "completed"
    },
    "tags": []
   },
   "source": [
    "# 2) Reading in files with encoding problems\n",
    "\n",
    "Use the code cell below to read in this file at path `\"../input/fatal-police-shootings-in-the-us/PoliceKillingsUS.csv\"`.  \n",
    "\n",
    "Figure out what the correct encoding should be and read in the file to a DataFrame `police_killings`."
   ]
  },
  {
   "cell_type": "code",
   "execution_count": 6,
   "id": "e7c7c53e",
   "metadata": {
    "execution": {
     "iopub.execute_input": "2022-06-27T18:57:53.414197Z",
     "iopub.status.busy": "2022-06-27T18:57:53.413821Z",
     "iopub.status.idle": "2022-06-27T18:57:54.437113Z",
     "shell.execute_reply": "2022-06-27T18:57:54.435744Z"
    },
    "papermill": {
     "duration": 1.033483,
     "end_time": "2022-06-27T18:57:54.439874",
     "exception": false,
     "start_time": "2022-06-27T18:57:53.406391",
     "status": "completed"
    },
    "tags": []
   },
   "outputs": [
    {
     "name": "stdout",
     "output_type": "stream",
     "text": [
      "{'encoding': 'Windows-1252', 'confidence': 0.73, 'language': ''}\n"
     ]
    },
    {
     "data": {
      "application/javascript": [
       "parent.postMessage({\"jupyterEvent\": \"custom.exercise_interaction\", \"data\": {\"outcomeType\": 1, \"valueTowardsCompletion\": 0.3333333333333333, \"interactionType\": 1, \"questionType\": 1, \"questionId\": \"2_ReadIn\", \"learnToolsVersion\": \"0.3.4\", \"failureMessage\": \"\", \"exceptionClass\": \"\", \"trace\": \"\"}}, \"*\")"
      ],
      "text/plain": [
       "<IPython.core.display.Javascript object>"
      ]
     },
     "metadata": {},
     "output_type": "display_data"
    },
    {
     "data": {
      "text/markdown": [
       "<span style=\"color:#33cc33\">Correct</span>"
      ],
      "text/plain": [
       "Correct"
      ]
     },
     "metadata": {},
     "output_type": "display_data"
    }
   ],
   "source": [
    "# TODO: Load in the DataFrame correctly.\n",
    "#at first i thought it encoded in utf-8 but it gave me an error\n",
    "#police_killings = pd.read_csv(\"../input/fatal-police-shootings-in-the-us/PoliceKillingsUS.csv\")\n",
    "\n",
    "\n",
    "#using chardet to detect the type of encoding\n",
    "with open(\"../input/fatal-police-shootings-in-the-us/PoliceKillingsUS.csv\",'rb')as rawdata:\n",
    "    result=chardet.detect(rawdata.read(50000))\n",
    "print(result)\n",
    "\n",
    "\n",
    "#after knowing the encoding\n",
    "police_killings=pd.read_csv(\"../input/fatal-police-shootings-in-the-us/PoliceKillingsUS.csv\",encoding='Windows-1252')\n",
    "\n",
    "# Check your answer\n",
    "q2.check()"
   ]
  },
  {
   "cell_type": "markdown",
   "id": "95a39eaf",
   "metadata": {
    "papermill": {
     "duration": 0.006515,
     "end_time": "2022-06-27T18:57:54.453011",
     "exception": false,
     "start_time": "2022-06-27T18:57:54.446496",
     "status": "completed"
    },
    "tags": []
   },
   "source": [
    "Feel free to use any additional code cells for supplemental work.  To get credit for finishing this question, you'll need to run `q2.check()` and get a result of **Correct**."
   ]
  },
  {
   "cell_type": "code",
   "execution_count": 7,
   "id": "a13aa591",
   "metadata": {
    "execution": {
     "iopub.execute_input": "2022-06-27T18:57:54.468371Z",
     "iopub.status.busy": "2022-06-27T18:57:54.467659Z",
     "iopub.status.idle": "2022-06-27T18:57:54.473329Z",
     "shell.execute_reply": "2022-06-27T18:57:54.471971Z"
    },
    "papermill": {
     "duration": 0.016059,
     "end_time": "2022-06-27T18:57:54.475811",
     "exception": false,
     "start_time": "2022-06-27T18:57:54.459752",
     "status": "completed"
    },
    "tags": []
   },
   "outputs": [],
   "source": [
    "# (Optional) Use this code cell for any additional work."
   ]
  },
  {
   "cell_type": "code",
   "execution_count": 8,
   "id": "e7d0018c",
   "metadata": {
    "execution": {
     "iopub.execute_input": "2022-06-27T18:57:54.490135Z",
     "iopub.status.busy": "2022-06-27T18:57:54.489528Z",
     "iopub.status.idle": "2022-06-27T18:57:54.494963Z",
     "shell.execute_reply": "2022-06-27T18:57:54.493461Z"
    },
    "papermill": {
     "duration": 0.015514,
     "end_time": "2022-06-27T18:57:54.497735",
     "exception": false,
     "start_time": "2022-06-27T18:57:54.482221",
     "status": "completed"
    },
    "tags": []
   },
   "outputs": [],
   "source": [
    "# Lines below will give you a hint or solution code\n",
    "#q2.hint()\n",
    "#q2.solution()"
   ]
  },
  {
   "cell_type": "markdown",
   "id": "fba530be",
   "metadata": {
    "papermill": {
     "duration": 0.00634,
     "end_time": "2022-06-27T18:57:54.510930",
     "exception": false,
     "start_time": "2022-06-27T18:57:54.504590",
     "status": "completed"
    },
    "tags": []
   },
   "source": [
    "# 3) Saving your files with UTF-8 encoding\n",
    "\n",
    "Save a version of the police killings dataset to CSV with UTF-8 encoding.  Your answer will be marked correct after saving this file.  \n",
    "\n",
    "Note: When using the `to_csv()` method, supply only the name of the file (e.g., `\"my_file.csv\"`).  This saves the file at the filepath `\"/kaggle/working/my_file.csv\"`."
   ]
  },
  {
   "cell_type": "code",
   "execution_count": 9,
   "id": "42c14c04",
   "metadata": {
    "execution": {
     "iopub.execute_input": "2022-06-27T18:57:54.526538Z",
     "iopub.status.busy": "2022-06-27T18:57:54.526150Z",
     "iopub.status.idle": "2022-06-27T18:57:54.569123Z",
     "shell.execute_reply": "2022-06-27T18:57:54.567694Z"
    },
    "papermill": {
     "duration": 0.054556,
     "end_time": "2022-06-27T18:57:54.572217",
     "exception": false,
     "start_time": "2022-06-27T18:57:54.517661",
     "status": "completed"
    },
    "tags": []
   },
   "outputs": [
    {
     "data": {
      "application/javascript": [
       "parent.postMessage({\"jupyterEvent\": \"custom.exercise_interaction\", \"data\": {\"outcomeType\": 1, \"valueTowardsCompletion\": 0.3333333333333333, \"interactionType\": 1, \"questionType\": 2, \"questionId\": \"3_SaveCSV\", \"learnToolsVersion\": \"0.3.4\", \"failureMessage\": \"\", \"exceptionClass\": \"\", \"trace\": \"\"}}, \"*\")"
      ],
      "text/plain": [
       "<IPython.core.display.Javascript object>"
      ]
     },
     "metadata": {},
     "output_type": "display_data"
    },
    {
     "data": {
      "text/markdown": [
       "<span style=\"color:#33cc33\">Correct</span>"
      ],
      "text/plain": [
       "Correct"
      ]
     },
     "metadata": {},
     "output_type": "display_data"
    }
   ],
   "source": [
    "# TODO: Save the police killings dataset to CSV\n",
    "police_killings.to_csv(\"my_file.csv\")\n",
    "\n",
    "# Check your answer\n",
    "q3.check()"
   ]
  },
  {
   "cell_type": "code",
   "execution_count": 10,
   "id": "c81d4432",
   "metadata": {
    "execution": {
     "iopub.execute_input": "2022-06-27T18:57:54.588256Z",
     "iopub.status.busy": "2022-06-27T18:57:54.587814Z",
     "iopub.status.idle": "2022-06-27T18:57:54.598996Z",
     "shell.execute_reply": "2022-06-27T18:57:54.597548Z"
    },
    "papermill": {
     "duration": 0.022499,
     "end_time": "2022-06-27T18:57:54.601611",
     "exception": false,
     "start_time": "2022-06-27T18:57:54.579112",
     "status": "completed"
    },
    "tags": []
   },
   "outputs": [
    {
     "data": {
      "application/javascript": [
       "parent.postMessage({\"jupyterEvent\": \"custom.exercise_interaction\", \"data\": {\"interactionType\": 3, \"questionType\": 2, \"questionId\": \"3_SaveCSV\", \"learnToolsVersion\": \"0.3.4\", \"valueTowardsCompletion\": 0.0, \"failureMessage\": \"\", \"exceptionClass\": \"\", \"trace\": \"\", \"outcomeType\": 4}}, \"*\")"
      ],
      "text/plain": [
       "<IPython.core.display.Javascript object>"
      ]
     },
     "metadata": {},
     "output_type": "display_data"
    },
    {
     "data": {
      "text/markdown": [
       "<span style=\"color:#33cc99\">Solution:</span> \n",
       "```python\n",
       "\n",
       "police_killings.to_csv(\"my_file.csv\")\n",
       "\n",
       "```"
      ],
      "text/plain": [
       "Solution: \n",
       "```python\n",
       "\n",
       "police_killings.to_csv(\"my_file.csv\")\n",
       "\n",
       "```"
      ]
     },
     "metadata": {},
     "output_type": "display_data"
    }
   ],
   "source": [
    "# Lines below will give you a hint or solution code\n",
    "#q3.hint()\n",
    "q3.solution()"
   ]
  },
  {
   "cell_type": "markdown",
   "id": "46b72b7a",
   "metadata": {
    "papermill": {
     "duration": 0.006849,
     "end_time": "2022-06-27T18:57:54.615756",
     "exception": false,
     "start_time": "2022-06-27T18:57:54.608907",
     "status": "completed"
    },
    "tags": []
   },
   "source": [
    "# (Optional) More practice\n",
    "\n",
    "Check out [this dataset of files in different character encodings](https://www.kaggle.com/rtatman/character-encoding-examples). Can you read in all the files with their original encodings and them save them out as UTF-8 files?\n",
    "\n",
    "If you have a file that's in UTF-8 but has just a couple of weird-looking characters in it, you can try out the [ftfy module](https://ftfy.readthedocs.io/en/latest/#) and see if it helps. \n",
    "\n",
    "# Keep going\n",
    "\n",
    "In the final lesson, learn how to [**clean up inconsistent text entries**](https://www.kaggle.com/alexisbcook/inconsistent-data-entry) in your dataset."
   ]
  },
  {
   "cell_type": "markdown",
   "id": "5b07c97d",
   "metadata": {
    "papermill": {
     "duration": 0.006464,
     "end_time": "2022-06-27T18:57:54.629009",
     "exception": false,
     "start_time": "2022-06-27T18:57:54.622545",
     "status": "completed"
    },
    "tags": []
   },
   "source": [
    "---\n",
    "\n",
    "\n",
    "\n",
    "\n",
    "*Have questions or comments? Visit the [course discussion forum](https://www.kaggle.com/learn/data-cleaning/discussion) to chat with other learners.*"
   ]
  }
 ],
 "metadata": {
  "kernelspec": {
   "display_name": "Python 3",
   "language": "python",
   "name": "python3"
  },
  "language_info": {
   "codemirror_mode": {
    "name": "ipython",
    "version": 3
   },
   "file_extension": ".py",
   "mimetype": "text/x-python",
   "name": "python",
   "nbconvert_exporter": "python",
   "pygments_lexer": "ipython3",
   "version": "3.7.12"
  },
  "papermill": {
   "default_parameters": {},
   "duration": 11.938138,
   "end_time": "2022-06-27T18:57:55.257568",
   "environment_variables": {},
   "exception": null,
   "input_path": "__notebook__.ipynb",
   "output_path": "__notebook__.ipynb",
   "parameters": {},
   "start_time": "2022-06-27T18:57:43.319430",
   "version": "2.3.4"
  }
 },
 "nbformat": 4,
 "nbformat_minor": 5
}
